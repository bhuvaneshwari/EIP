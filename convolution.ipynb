{
  "nbformat": 4,
  "nbformat_minor": 0,
  "metadata": {
    "colab": {
      "name": "convolution.ipynb",
      "version": "0.3.2",
      "provenance": []
    },
    "kernelspec": {
      "name": "python3",
      "display_name": "Python 3"
    }
  },
  "cells": [
    {
      "metadata": {
        "id": "CYgtdyo1Kv74",
        "colab_type": "code",
        "colab": {}
      },
      "cell_type": "code",
      "source": [
        "import numpy as np"
      ],
      "execution_count": 0,
      "outputs": []
    },
    {
      "metadata": {
        "id": "LdHa6o9_K2SD",
        "colab_type": "code",
        "colab": {
          "base_uri": "https://localhost:8080/",
          "height": 35
        },
        "outputId": "b7ad1fbd-95da-4bf0-e6e7-f7090a50c7ba"
      },
      "cell_type": "code",
      "source": [
        "x = np.array([0,1,2,3,4])\n",
        "w = [1,-1,2]\n",
        "r = np.convolve(x,w)\n",
        "print(r)"
      ],
      "execution_count": 2,
      "outputs": [
        {
          "output_type": "stream",
          "text": [
            "[0 1 1 3 5 2 8]\n"
          ],
          "name": "stdout"
        }
      ]
    }
  ]
}